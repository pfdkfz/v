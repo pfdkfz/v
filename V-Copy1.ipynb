{
 "cells": [
  {
   "cell_type": "code",
   "execution_count": 1,
   "id": "02afa452",
   "metadata": {},
   "outputs": [],
   "source": [
    "import plotly.express as px\n",
    "import pandas as pd\n",
    "import numpy as np\n",
    "from scipy import stats\n",
    "from IPython.display import display, clear_output\n",
    "import ipywidgets as widgets"
   ]
  },
  {
   "cell_type": "code",
   "execution_count": 2,
   "id": "2b84c93b",
   "metadata": {},
   "outputs": [],
   "source": [
    "def graphingLY(gene, parameter, df1):\n",
    "    #df1= pd.read_csv('output/NSCLC_RNAseq_EC50_NO.csv')\n",
    "    a = px.scatter(df1, x=gene, y=parameter, trendline=\"ols\", hover_name = df1['stripped_cell_line_name'], template = 'simple_white', width=600, height=400, title = 'Correlation between ' + gene + ' and ' + parameter)\n",
    "    a.show()\n",
    "\n",
    "def outp(gene, parameter, df1):\n",
    "    #df1= pd.read_csv('output/NSCLC_RNAseq_EC50_NO.csv')\n",
    "    r, p = stats.pearsonr(df1[gene], df1[parameter])\n",
    "    print('Pearson = ' + str(round(r, 2)) + '\\np-value = ' + '{:.2e}'.format(p) + '\\n')\n",
    "    print(df1[['stripped_cell_line_name', gene]])\n",
    "\n",
    "\n",
    "def analysis(g, p = 'NO', df1= pd.read_csv('data/NSCLC_RNAseq_EC50_NO.csv')):\n",
    "    g = g.upper()\n",
    "    if g not in df1.columns:\n",
    "        print('Wrong gene name!')\n",
    "    else:\n",
    "        graphingLY(g, p, df1)\n",
    "        outp(g,p, df1)"
   ]
  },
  {
   "cell_type": "code",
   "execution_count": null,
   "id": "e25a52c9",
   "metadata": {},
   "outputs": [],
   "source": []
  },
  {
   "cell_type": "code",
   "execution_count": 9,
   "id": "428033f9",
   "metadata": {},
   "outputs": [
    {
     "data": {
      "application/vnd.jupyter.widget-view+json": {
       "model_id": "48fdfc1fdcbe47c2b217c06aa89d2e25",
       "version_major": 2,
       "version_minor": 0
      },
      "text/plain": [
       "RadioButtons(description='Choose:', layout=Layout(width='max-content'), options=('EC50', 'NO'), value='EC50')"
      ]
     },
     "metadata": {},
     "output_type": "display_data"
    },
    {
     "data": {
      "application/vnd.jupyter.widget-view+json": {
       "model_id": "a74b8f83c3a943a48ed36f6317f4a7f0",
       "version_major": 2,
       "version_minor": 0
      },
      "text/plain": [
       "Text(value='', description='Gene:', placeholder='Type a gene name')"
      ]
     },
     "metadata": {},
     "output_type": "display_data"
    },
    {
     "data": {
      "application/vnd.jupyter.widget-view+json": {
       "model_id": "64ad14600d574316a04086da4a04b5ec",
       "version_major": 2,
       "version_minor": 0
      },
      "text/plain": [
       "Button(button_style='success', description='Run', icon='check', style=ButtonStyle(), tooltip='Click me')"
      ]
     },
     "metadata": {},
     "output_type": "display_data"
    },
    {
     "data": {
      "application/vnd.jupyter.widget-view+json": {
       "model_id": "3fb78f41e8334e3c98581c184c444bd5",
       "version_major": 2,
       "version_minor": 0
      },
      "text/plain": [
       "Output()"
      ]
     },
     "metadata": {},
     "output_type": "display_data"
    }
   ],
   "source": [
    "clear_output()\n",
    "\n",
    "c = widgets.RadioButtons(\n",
    "    options=['EC50', 'NO'],\n",
    "    value='EC50',\n",
    "    layout={'width': 'max-content'}, # If the items' names are long\n",
    "    description='Choose:',\n",
    "    disabled=False,\n",
    "    continuous_update=True\n",
    ")\n",
    "\n",
    "\n",
    "\n",
    "a = widgets.Text(\n",
    "    value='',\n",
    "    placeholder='Type a gene name',\n",
    "    description='Gene:',\n",
    "    disabled=False\n",
    ")\n",
    "\n",
    "\n",
    "run_button = widgets.Button(\n",
    "    description='Run',\n",
    "    disabled=False,\n",
    "    button_style='success', # 'success', 'info', 'warning', 'danger' or ''\n",
    "    tooltip='Click me',\n",
    "    icon='check' # (FontAwesome names without the `fa-` prefix)\n",
    ")\n",
    "\n",
    "out = widgets.Output()\n",
    "#display(out)\n",
    "display(c, a, run_button)\n",
    "def f(c):\n",
    "    return c.value\n",
    "\n",
    "\n",
    "def on_run_button_clicked(b):\n",
    "    clear_output()\n",
    "    with out:\n",
    "        clear_output()\n",
    "        #print(str(a.value).upper() + \" expression:\")\n",
    "        s =  analysis(str(a.value).upper(), f(c))\n",
    "      \n",
    "    \n",
    "run_button.on_click(on_run_button_clicked)\n",
    "display(out)"
   ]
  },
  {
   "cell_type": "code",
   "execution_count": null,
   "id": "2d574f22",
   "metadata": {},
   "outputs": [],
   "source": []
  },
  {
   "cell_type": "code",
   "execution_count": null,
   "id": "3111131a",
   "metadata": {},
   "outputs": [],
   "source": []
  }
 ],
 "metadata": {
  "kernelspec": {
   "display_name": "Python 3",
   "language": "python",
   "name": "python3"
  },
  "language_info": {
   "codemirror_mode": {
    "name": "ipython",
    "version": 3
   },
   "file_extension": ".py",
   "mimetype": "text/x-python",
   "name": "python",
   "nbconvert_exporter": "python",
   "pygments_lexer": "ipython3",
   "version": "3.8.8"
  }
 },
 "nbformat": 4,
 "nbformat_minor": 5
}
