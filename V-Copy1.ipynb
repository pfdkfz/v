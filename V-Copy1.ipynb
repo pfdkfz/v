{
 "cells": [
  {
   "cell_type": "code",
   "execution_count": 2,
   "id": "2cf8c939-7023-4aa1-b1ca-fabac6eaec1b",
   "metadata": {},
   "outputs": [],
   "source": [
    "import plotly.express as px\n",
    "import pandas as pd\n",
    "import numpy as np\n",
    "from scipy import stats\n",
    "from IPython.display import display, clear_output\n",
    "import ipywidgets as widgets"
   ]
  },
  {
   "cell_type": "code",
   "execution_count": 3,
   "id": "ee7381a9-eaf6-4071-86be-dd56d9ef25af",
   "metadata": {},
   "outputs": [],
   "source": [
    "def graphingLY(gene, parameter, df1):\n",
    "    #df1= pd.read_csv('output/NSCLC_RNAseq_EC50_NO.csv')\n",
    "    a = px.scatter(df1, x=gene, y=parameter, trendline=\"ols\", hover_name = df1['stripped_cell_line_name'], template = 'simple_white', width=600, height=400, title = 'Correlation between ' + gene + ' and ' + parameter)\n",
    "    a.show()\n",
    "\n",
    "def outp(gene, parameter, df1):\n",
    "    #df1= pd.read_csv('output/NSCLC_RNAseq_EC50_NO.csv')\n",
    "    r, p = stats.pearsonr(df1[gene], df1[parameter])\n",
    "    print('Pearson = ' + str(round(r, 2)) + '\\np-value = ' + '{:.2e}'.format(p) + '\\n')\n",
    "    print(df1[['stripped_cell_line_name', gene]])\n",
    "\n",
    "\n",
    "def analysis(g, p = 'NO', df1= pd.read_csv('data/NSCLC_RNAseq_EC50_NO.csv')):\n",
    "    g = g.upper()\n",
    "    if g not in df1.columns:\n",
    "        print('Wrong gene name!')\n",
    "    else:\n",
    "        graphingLY(g, p, df1)\n",
    "        outp(g,p, df1)"
   ]
  },
  {
   "cell_type": "code",
   "execution_count": null,
   "id": "628dd404-c8af-4be2-b431-e0f8252690c2",
   "metadata": {},
   "outputs": [],
   "source": []
  },
  {
   "cell_type": "code",
   "execution_count": 10,
   "id": "d9e5a7bc-caf1-4abc-9da7-129d8fce52ba",
   "metadata": {},
   "outputs": [
    {
     "data": {
      "application/vnd.jupyter.widget-view+json": {
       "model_id": "c1f8743988914b89953e160eda546bfd",
       "version_major": 2,
       "version_minor": 0
      },
      "text/plain": [
       "RadioButtons(description='Choose:', layout=Layout(width='max-content'), options=('EC50', 'NO'), value='EC50')"
      ]
     },
     "metadata": {},
     "output_type": "display_data"
    },
    {
     "data": {
      "application/vnd.jupyter.widget-view+json": {
       "model_id": "67e039d5522347c1b8d0826e47fb9ba4",
       "version_major": 2,
       "version_minor": 0
      },
      "text/plain": [
       "Text(value='', description='Gene:', placeholder='Type a gene name')"
      ]
     },
     "metadata": {},
     "output_type": "display_data"
    },
    {
     "data": {
      "application/vnd.jupyter.widget-view+json": {
       "model_id": "1e8f8969f54940d29121ded02d938162",
       "version_major": 2,
       "version_minor": 0
      },
      "text/plain": [
       "Button(button_style='success', description='Run', icon='check', style=ButtonStyle(), tooltip='Click me')"
      ]
     },
     "metadata": {},
     "output_type": "display_data"
    },
    {
     "data": {
      "application/vnd.jupyter.widget-view+json": {
       "model_id": "b80c5e9dad854733b5e0112acba62168",
       "version_major": 2,
       "version_minor": 0
      },
      "text/plain": [
       "Output()"
      ]
     },
     "metadata": {},
     "output_type": "display_data"
    }
   ],
   "source": [
    "clear_output()\n",
    "\n",
    "c = widgets.RadioButtons(\n",
    "    options=['EC50', 'NO'],\n",
    "    value='EC50',\n",
    "    layout={'width': 'max-content'}, # If the items' names are long\n",
    "    description='Choose:',\n",
    "    disabled=False,\n",
    "    continuous_update=True\n",
    ")\n",
    "\n",
    "\n",
    "\n",
    "a = widgets.Text(\n",
    "    value='',\n",
    "    placeholder='Type a gene name',\n",
    "    description='Gene:',\n",
    "    disabled=False\n",
    ")\n",
    "\n",
    "\n",
    "run_button = widgets.Button(\n",
    "    description='Run',\n",
    "    disabled=False,\n",
    "    button_style='success', # 'success', 'info', 'warning', 'danger' or ''\n",
    "    tooltip='Click me',\n",
    "    icon='check' # (FontAwesome names without the `fa-` prefix)\n",
    ")\n",
    "\n",
    "out = widgets.Output()\n",
    "#display(out)\n",
    "display(c, a, run_button)\n",
    "def f(c):\n",
    "    return c.value\n",
    "\n",
    "\n",
    "def on_run_button_clicked(b):\n",
    "    with out:\n",
    "        #clear_output()\n",
    "        #print(str(a.value).upper() + \" expression:\")\n",
    "        s =  analysis(str(a.value).upper(), f(c))\n",
    "      \n",
    "    \n",
    "run_button.on_click(on_run_button_clicked)\n",
    "display(out)"
   ]
  },
  {
   "cell_type": "code",
   "execution_count": null,
   "id": "9c2ccf84-d6af-4afc-bbf0-82af769adbd0",
   "metadata": {},
   "outputs": [],
   "source": []
  },
  {
   "cell_type": "code",
   "execution_count": null,
   "id": "e02c7c74-12e8-403e-9a3b-0df1d8fd25e6",
   "metadata": {},
   "outputs": [],
   "source": []
  }
 ],
 "metadata": {
  "kernelspec": {
   "display_name": "Python 3",
   "language": "python",
   "name": "python3"
  },
  "language_info": {
   "codemirror_mode": {
    "name": "ipython",
    "version": 3
   },
   "file_extension": ".py",
   "mimetype": "text/x-python",
   "name": "python",
   "nbconvert_exporter": "python",
   "pygments_lexer": "ipython3",
   "version": "3.8.2"
  }
 },
 "nbformat": 4,
 "nbformat_minor": 5
}
